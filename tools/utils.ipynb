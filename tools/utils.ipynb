{
 "cells": [
  {
   "cell_type": "code",
   "execution_count": null,
   "metadata": {},
   "outputs": [],
   "source": [
    "import os\n",
    "import sys\n",
    "from pathlib import Path\n",
    "\n",
    "sys.path.append(os.getcwd())\n",
    "sys.path.append(Path(os.getcwd()).parent.as_posix())"
   ]
  },
  {
   "cell_type": "code",
   "execution_count": null,
   "metadata": {},
   "outputs": [],
   "source": [
    "import cv2\n",
    "import numpy as np\n",
    "import matplotlib.pyplot as plt\n",
    "from perspective_transform.position import positions"
   ]
  },
  {
   "cell_type": "code",
   "execution_count": null,
   "metadata": {},
   "outputs": [],
   "source": [
    "cam_id = \"c010\"\n",
    "positions[cam_id]"
   ]
  },
  {
   "cell_type": "code",
   "execution_count": null,
   "metadata": {},
   "outputs": [],
   "source": [
    "img_paths = {\n",
    "    \"c009\": \"/home/jongphago/nota/frames/val/scene_042/camera09/NIA_MTMDC_s42_c09_am_sunny_fall_0000.jpg\",\n",
    "    \"c010\": \"/home/jongphago/nota/frames/val/scene_042/camera10/NIA_MTMDC_s42_c10_am_sunny_fall_0000.jpg\",\n",
    "}"
   ]
  },
  {
   "cell_type": "code",
   "execution_count": null,
   "metadata": {},
   "outputs": [],
   "source": [
    "_map_image = cv2.imread(\"/home/jongphago/nota/maps/val/scene_042/map.png\")\n",
    "_cam_image = cv2.imread(img_paths[cam_id])"
   ]
  },
  {
   "cell_type": "code",
   "execution_count": null,
   "metadata": {},
   "outputs": [],
   "source": [
    "# draw cam_position on the cam_image\n",
    "cam_position = positions[cam_id][\"cam_position\"]\n",
    "cam_image = _cam_image.copy()\n",
    "for index, cp in enumerate(cam_position):\n",
    "    cv2.circle(cam_image, cp, 10, (0, 0, 255), -1)\n",
    "    cv2.putText(cam_image, str(index), cp, cv2.FONT_HERSHEY_SIMPLEX, 2, (0, 0, 255), 2)\n",
    "cv2.polylines(\n",
    "    cam_image, [np.array(cam_position)], isClosed=True, color=(0, 0, 255), thickness=2\n",
    ")\n",
    "plt.imshow(cv2.cvtColor(cam_image, cv2.COLOR_BGR2RGB))\n",
    "plt.show()"
   ]
  },
  {
   "cell_type": "code",
   "execution_count": null,
   "metadata": {},
   "outputs": [],
   "source": [
    "# draw map_position on the map_image\n",
    "map_position = positions[cam_id][\"map_position\"]\n",
    "map_image = _map_image.copy()\n",
    "for index, cp in enumerate(map_position):\n",
    "    cv2.circle(map_image, cp, 10, (0, 0, 255), -1)\n",
    "    cv2.putText(map_image, str(index), cp, cv2.FONT_HERSHEY_SIMPLEX, 2, (0, 0, 255), 2)\n",
    "cv2.polylines(\n",
    "    map_image, [np.array(map_position)], isClosed=True, color=(0, 0, 255), thickness=2\n",
    ")\n",
    "plt.imshow(cv2.cvtColor(map_image, cv2.COLOR_BGR2RGB))\n",
    "plt.show()"
   ]
  },
  {
   "cell_type": "code",
   "execution_count": null,
   "metadata": {},
   "outputs": [],
   "source": [
    "H, _ = cv2.findHomography(np.array(cam_position), np.array(map_position))\n",
    "H.tolist() == positions[cam_id][\"H_inv\"]"
   ]
  },
  {
   "cell_type": "code",
   "execution_count": null,
   "metadata": {},
   "outputs": [],
   "source": [
    "H_inv, _ = cv2.findHomography(np.array(map_position), np.array(cam_position))\n",
    "H_inv.tolist() == positions[cam_id][\"H\"]"
   ]
  },
  {
   "cell_type": "code",
   "execution_count": null,
   "metadata": {},
   "outputs": [],
   "source": [
    "# cam image에 perspective transform 적용\n",
    "warped_image = _cam_image.copy()\n",
    "warped_image = cv2.warpPerspective(\n",
    "    cam_image, H, (cam_image.shape[1], cam_image.shape[0])\n",
    ")\n",
    "plt.imshow(cv2.cvtColor(warped_image, cv2.COLOR_BGR2RGB))"
   ]
  },
  {
   "cell_type": "code",
   "execution_count": null,
   "metadata": {},
   "outputs": [],
   "source": [
    "import cv2\n",
    "import numpy as np\n",
    "import matplotlib.pyplot as plt\n",
    "\n",
    "\n",
    "class DrawBouondingBox:\n",
    "    def __init__(self, image, text, tlbr, track_id, colors, m=2):\n",
    "        self.m = m\n",
    "        self.tlbr = tlbr.astype(int)\n",
    "        self.image = image\n",
    "        self.colors = colors\n",
    "        self.track_id = track_id\n",
    "        self.initialize_text(text)\n",
    "\n",
    "    def initialize_text(self, text, font=None):\n",
    "        self.text = text\n",
    "        self.font = font if font is not None else cv2.FONT_HERSHEY_SIMPLEX\n",
    "        self.text_size = cv2.getTextSize(\n",
    "            self.text, self.font, 0.4 * self.m, 1 * self.m\n",
    "        )[0]\n",
    "        self.text_background_color = (\n",
    "            (self.colors[self.track_id % 80] * 255 * 0.7).astype(np.uint8).tolist()\n",
    "        )\n",
    "        self.text_color = (\n",
    "            (0, 0, 0)\n",
    "            if np.mean(self.colors[self.track_id % 80]) > 0.5\n",
    "            else (255, 255, 255)\n",
    "        )\n",
    "\n",
    "    def draw_text_background(self):\n",
    "        x0, y0 = self.tlbr[:2]\n",
    "        pt1 = (x0, y0 - 2)\n",
    "        pt2 = (x0 + self.text_size[0] + 1, y0 - int(1.5 * self.text_size[1]))\n",
    "        cv2.rectangle(self.image, pt1, pt2, self.text_background_color, -1)\n",
    "\n",
    "    def draw_text(self):\n",
    "        x0, y0 = self.tlbr[:2]\n",
    "        org = (x0, int(y0 - self.text_size[1] / 2))\n",
    "        font_scale = 0.4 * self.m\n",
    "        thickness = 1 * self.m\n",
    "        cv2.putText(\n",
    "            self.image,\n",
    "            self.text,\n",
    "            org,\n",
    "            self.font,\n",
    "            font_scale,\n",
    "            self.text_color,\n",
    "            thickness=thickness,\n",
    "        )\n",
    "\n",
    "    def draw_label(self):\n",
    "        self.draw_text_background()\n",
    "        self.draw_text()\n",
    "\n",
    "    def draw_bounding_box(self, line_thickness=2):\n",
    "        color = (self.colors[self.track_id % 80] * 255).astype(np.uint8).tolist()\n",
    "        top_left, bottom_right = self.tlbr[:2], self.tlbr[2:]\n",
    "        cv2.rectangle(self.image, top_left, bottom_right, color, line_thickness)\n",
    "\n",
    "    def draw(self):\n",
    "        self.draw_bounding_box()\n",
    "        self.draw_label()\n",
    "\n",
    "\n",
    "_img = np.random.randint(0, 255, (1080, 1920, 3)).astype(np.uint8)\n",
    "img_paths = [1]\n",
    "path_tlbr = {1: np.array([408.79, 547.86, 501.56, 840.7])}\n",
    "track_id = 0\n",
    "m = 2\n",
    "text = f\"{track_id}\"\n",
    "txt_color = (255, 255, 255)\n",
    "colors = [np.array((0, 0, 255))]\n",
    "color = np.array((0, 0, 255))\n",
    "font = cv2.FONT_HERSHEY_SIMPLEX\n",
    "txt_size = cv2.getTextSize(text, font, 0.4 * m, 1 * m)[0]\n",
    "txt_bk_color = (color * 0.7).astype(np.uint8).tolist()\n",
    "color = (color).astype(np.uint8).tolist()\n",
    "\n",
    "\n",
    "for img_path in img_paths:\n",
    "    draw_bounding_box = DrawBouondingBox(\n",
    "        _img.copy(), text, path_tlbr[img_path], track_id, colors\n",
    "    )\n",
    "    draw_bounding_box.draw()\n",
    "\n",
    "\n",
    "plt.imshow(draw_bounding_box.image)"
   ]
  },
  {
   "cell_type": "code",
   "execution_count": null,
   "metadata": {},
   "outputs": [],
   "source": [
    "class DrawMap:\n",
    "    def __init__(self, map_image, track, tracker_index, colors):\n",
    "        self.map_image = map_image\n",
    "        self.track = track\n",
    "        self.initialize_track(colors)\n",
    "        self.initialize_text(tracker_index)\n",
    "\n",
    "    def initialize_track(self, colors):\n",
    "        self.location = tuple(map(int, self.track.location[0]))\n",
    "        self.track_id = self.track.global_id\n",
    "        self.color = (colors[self.track_id % 80] * 255).astype(np.uint8).tolist()\n",
    "\n",
    "    def initialize_text(self, tracker_index):\n",
    "        self.text = f\"{str(track_id)}[{tracker_index}]\"\n",
    "        self.font_face = cv2.FONT_HERSHEY_SIMPLEX\n",
    "        self.font_scale = 1\n",
    "\n",
    "    def draw_map_position(self):\n",
    "        radius = 10\n",
    "        thickness = -1\n",
    "        cv2.circle(\n",
    "            self.map_image,\n",
    "            self.location,\n",
    "            radius,\n",
    "            self.color,\n",
    "            thickness,\n",
    "        )\n",
    "\n",
    "    def draw_map_label(self, thickness=2):\n",
    "        cv2.putText(\n",
    "            self.map_image,\n",
    "            self.text,\n",
    "            self.location,\n",
    "            self.font_face,\n",
    "            self.font_scale,\n",
    "            self.color,\n",
    "            thickness,\n",
    "        )\n",
    "\n",
    "    def draw(self):\n",
    "        self.draw_map_position()\n",
    "        self.draw_map_label()\n",
    "\n",
    "    def get_map_image(self):\n",
    "        return self.map_image"
   ]
  }
 ],
 "metadata": {
  "kernelspec": {
   "display_name": "nota",
   "language": "python",
   "name": "python3"
  },
  "language_info": {
   "codemirror_mode": {
    "name": "ipython",
    "version": 3
   },
   "file_extension": ".py",
   "mimetype": "text/x-python",
   "name": "python",
   "nbconvert_exporter": "python",
   "pygments_lexer": "ipython3",
   "version": "3.8.20"
  }
 },
 "nbformat": 4,
 "nbformat_minor": 2
}
