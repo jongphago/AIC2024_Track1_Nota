{
 "cells": [
  {
   "cell_type": "code",
   "execution_count": null,
   "metadata": {},
   "outputs": [],
   "source": [
    "import os\n",
    "import sys\n",
    "from pathlib import Path\n",
    "\n",
    "sys.path.append(os.getcwd())\n",
    "sys.path.append(Path(os.getcwd()).parent.as_posix())"
   ]
  },
  {
   "cell_type": "code",
   "execution_count": null,
   "metadata": {},
   "outputs": [],
   "source": [
    "import cv2\n",
    "import numpy as np\n",
    "import matplotlib.pyplot as plt\n",
    "from perspective_transform.position import positions"
   ]
  },
  {
   "cell_type": "code",
   "execution_count": null,
   "metadata": {},
   "outputs": [],
   "source": [
    "cam_id = \"c010\"\n",
    "positions[cam_id]"
   ]
  },
  {
   "cell_type": "code",
   "execution_count": null,
   "metadata": {},
   "outputs": [],
   "source": [
    "img_paths = {\n",
    "    \"c009\": \"/home/jongphago/nota/frames/val/scene_042/camera09/NIA_MTMDC_s42_c09_am_sunny_fall_0000.jpg\",\n",
    "    \"c010\": \"/home/jongphago/nota/frames/val/scene_042/camera10/NIA_MTMDC_s42_c10_am_sunny_fall_0000.jpg\",\n",
    "}"
   ]
  },
  {
   "cell_type": "code",
   "execution_count": null,
   "metadata": {},
   "outputs": [],
   "source": [
    "_map_image = cv2.imread(\"/home/jongphago/nota/maps/val/scene_042/map.png\")\n",
    "_cam_image = cv2.imread(img_paths[cam_id])"
   ]
  },
  {
   "cell_type": "code",
   "execution_count": null,
   "metadata": {},
   "outputs": [],
   "source": [
    "# draw cam_position on the cam_image\n",
    "cam_position = positions[cam_id][\"cam_position\"]\n",
    "cam_image = _cam_image.copy()\n",
    "for index, cp in enumerate(cam_position):\n",
    "    cv2.circle(cam_image, cp, 10, (0, 0, 255), -1)\n",
    "    cv2.putText(cam_image, str(index), cp, cv2.FONT_HERSHEY_SIMPLEX, 2, (0, 0, 255), 2)\n",
    "cv2.polylines(\n",
    "    cam_image, [np.array(cam_position)], isClosed=True, color=(0, 0, 255), thickness=2\n",
    ")\n",
    "plt.imshow(cv2.cvtColor(cam_image, cv2.COLOR_BGR2RGB))\n",
    "plt.show()"
   ]
  },
  {
   "cell_type": "code",
   "execution_count": null,
   "metadata": {},
   "outputs": [],
   "source": [
    "# draw map_position on the map_image\n",
    "map_position = positions[cam_id][\"map_position\"]\n",
    "map_image = _map_image.copy()\n",
    "for index, cp in enumerate(map_position):\n",
    "    cv2.circle(map_image, cp, 10, (0, 0, 255), -1)\n",
    "    cv2.putText(map_image, str(index), cp, cv2.FONT_HERSHEY_SIMPLEX, 2, (0, 0, 255), 2)\n",
    "cv2.polylines(\n",
    "    map_image, [np.array(map_position)], isClosed=True, color=(0, 0, 255), thickness=2\n",
    ")\n",
    "plt.imshow(cv2.cvtColor(map_image, cv2.COLOR_BGR2RGB))\n",
    "plt.show()"
   ]
  },
  {
   "cell_type": "code",
   "execution_count": null,
   "metadata": {},
   "outputs": [],
   "source": [
    "H, _ = cv2.findHomography(np.array(cam_position), np.array(map_position))\n",
    "H.tolist() == positions[cam_id][\"H_inv\"]"
   ]
  },
  {
   "cell_type": "code",
   "execution_count": null,
   "metadata": {},
   "outputs": [],
   "source": [
    "H_inv, _ = cv2.findHomography(np.array(map_position), np.array(cam_position))\n",
    "H_inv.tolist() == positions[cam_id][\"H\"]"
   ]
  },
  {
   "cell_type": "code",
   "execution_count": null,
   "metadata": {},
   "outputs": [],
   "source": [
    "# cam image에 perspective transform 적용\n",
    "warped_image = _cam_image.copy()\n",
    "warped_image = cv2.warpPerspective(\n",
    "    cam_image, H, (cam_image.shape[1], cam_image.shape[0])\n",
    ")\n",
    "plt.imshow(cv2.cvtColor(warped_image, cv2.COLOR_BGR2RGB))"
   ]
  },
  {
   "cell_type": "code",
   "execution_count": null,
   "metadata": {},
   "outputs": [],
   "source": []
  }
 ],
 "metadata": {
  "kernelspec": {
   "display_name": "base",
   "language": "python",
   "name": "python3"
  },
  "language_info": {
   "codemirror_mode": {
    "name": "ipython",
    "version": 3
   },
   "file_extension": ".py",
   "mimetype": "text/x-python",
   "name": "python",
   "nbconvert_exporter": "python",
   "pygments_lexer": "ipython3",
   "version": "3.10.15"
  }
 },
 "nbformat": 4,
 "nbformat_minor": 2
}
